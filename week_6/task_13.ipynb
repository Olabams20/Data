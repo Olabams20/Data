{
 "cells": [
  {
   "cell_type": "markdown",
   "id": "b556f133",
   "metadata": {},
   "source": [
    "***Question 1***"
   ]
  },
  {
   "cell_type": "code",
   "execution_count": 48,
   "id": "1bf3d96d",
   "metadata": {},
   "outputs": [
    {
     "name": "stdout",
     "output_type": "stream",
     "text": [
      "[[ 2 38 18  5 34 37]\n",
      " [36  4 39  2 26 14]\n",
      " [21 44 14 11 25 22]\n",
      " [25 29 31 19 39  9]\n",
      " [41 42  7 23  7 34]\n",
      " [25 12 19  7 33  3]]\n"
     ]
    }
   ],
   "source": [
    "import numpy as np\n",
    "\n",
    "array = np.random.randint(1, 50, size=(6, 6))\n",
    "print(array)\n"
   ]
  },
  {
   "cell_type": "markdown",
   "id": "c84523fb",
   "metadata": {},
   "source": [
    "***Question 2***"
   ]
  },
  {
   "cell_type": "code",
   "execution_count": 49,
   "id": "e4ad8ff1",
   "metadata": {},
   "outputs": [
    {
     "name": "stdout",
     "output_type": "stream",
     "text": [
      "Original Array:\n",
      " [[ 2 38 18  5 34 37]\n",
      " [36  4 39  2 26 14]\n",
      " [21 44 14 11 25 22]\n",
      " [25 29 31 19 39  9]\n",
      " [41 42  7 23  7 34]\n",
      " [25 12 19  7 33  3]]\n",
      "\n",
      "First two rows:\n",
      " [[ 2 38 18  5 34 37]\n",
      " [36  4 39  2 26 14]]\n",
      "\n",
      "Last three columns:\n",
      " [[ 5 34 37]\n",
      " [ 2 26 14]\n",
      " [11 25 22]\n",
      " [19 39  9]\n",
      " [23  7 34]\n",
      " [ 7 33  3]]\n",
      "\n",
      "Even numbers:\n",
      " [ 2 38 18 34 36  4  2 26 14 44 14 22 42 34 12]\n"
     ]
    }
   ],
   "source": [
    "# import numpy as np\n",
    "\n",
    "# array= np.random.randint(1, 51, (6, 6))\n",
    "print(\"Original Array:\\n\", array)\n",
    "\n",
    "print(\"\\nFirst two rows:\\n\", array[:2])\n",
    "\n",
    "print(\"\\nLast three columns:\\n\", array[:, 3:])\n",
    "\n",
    "print(\"\\nEven numbers:\\n\", array[array % 2 == 0])\n"
   ]
  },
  {
   "cell_type": "markdown",
   "id": "49417827",
   "metadata": {},
   "source": [
    "***Question 3***"
   ]
  },
  {
   "cell_type": "code",
   "execution_count": null,
   "id": "8cd71944",
   "metadata": {},
   "outputs": [],
   "source": []
  }
 ],
 "metadata": {
  "kernelspec": {
   "display_name": "data_and_data_analysis",
   "language": "python",
   "name": "python3"
  },
  "language_info": {
   "codemirror_mode": {
    "name": "ipython",
    "version": 3
   },
   "file_extension": ".py",
   "mimetype": "text/x-python",
   "name": "python",
   "nbconvert_exporter": "python",
   "pygments_lexer": "ipython3",
   "version": "3.13.7"
  }
 },
 "nbformat": 4,
 "nbformat_minor": 5
}
