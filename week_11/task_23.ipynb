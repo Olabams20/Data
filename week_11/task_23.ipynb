{
 "cells": [
  {
   "cell_type": "code",
   "execution_count": 27,
   "id": "14327bea",
   "metadata": {},
   "outputs": [],
   "source": [
    "from datetime import datetime\n",
    "from pydantic import BaseModel, Field, field_validator\n",
    "from typing import ClassVar"
   ]
  },
  {
   "cell_type": "code",
   "execution_count": 28,
   "id": "b74d9515",
   "metadata": {},
   "outputs": [
    {
     "name": "stdout",
     "output_type": "stream",
     "text": [
      "username='ola_bams20' free_account_post_length='Hello world!' premium_account_post_length='This is a long-form post for premium users.' is_active=True created_at=datetime.datetime(2025, 10, 16, 12, 59, 42, 20296)\n"
     ]
    }
   ],
   "source": [
    "user = TwitterUsername(\n",
    "    username=\"ola_bams20\",\n",
    "    free_account_post_length=\"Hello world!\",\n",
    "    premium_account_post_length=\"This is a long-form post for premium users.\",\n",
    ")\n",
    "print(user)\n"
   ]
  },
  {
   "cell_type": "code",
   "execution_count": 29,
   "id": "e7023f81",
   "metadata": {},
   "outputs": [
    {
     "ename": "ValidationError",
     "evalue": "1 validation error for TwitterUsername\nusername\n  Value error, Username cannot be 'admin' or 'twitter' [type=value_error, input_value='Admin', input_type=str]\n    For further information visit https://errors.pydantic.dev/2.12/v/value_error",
     "output_type": "error",
     "traceback": [
      "\u001b[31m---------------------------------------------------------------------------\u001b[39m",
      "\u001b[31mValidationError\u001b[39m                           Traceback (most recent call last)",
      "\u001b[36mCell\u001b[39m\u001b[36m \u001b[39m\u001b[32mIn[29]\u001b[39m\u001b[32m, line 1\u001b[39m\n\u001b[32m----> \u001b[39m\u001b[32m1\u001b[39m user = \u001b[43mTwitterUsername\u001b[49m\u001b[43m(\u001b[49m\n\u001b[32m      2\u001b[39m \u001b[43m    \u001b[49m\u001b[43musername\u001b[49m\u001b[43m=\u001b[49m\u001b[33;43m\"\u001b[39;49m\u001b[33;43mAdmin\u001b[39;49m\u001b[33;43m\"\u001b[39;49m\u001b[43m,\u001b[49m\u001b[43m  \u001b[49m\u001b[38;5;66;43;03m# Invalid due to restricted name\u001b[39;49;00m\n\u001b[32m      3\u001b[39m \u001b[43m    \u001b[49m\u001b[43mfree_account_post_length\u001b[49m\u001b[43m=\u001b[49m\u001b[33;43m\"\u001b[39;49m\u001b[33;43mHi\u001b[39;49m\u001b[33;43m\"\u001b[39;49m\u001b[43m,\u001b[49m\n\u001b[32m      4\u001b[39m \u001b[43m    \u001b[49m\u001b[43mpremium_account_post_length\u001b[49m\u001b[43m=\u001b[49m\u001b[33;43m\"\u001b[39;49m\u001b[33;43mPremium content\u001b[39;49m\u001b[33;43m\"\u001b[39;49m\n\u001b[32m      5\u001b[39m \u001b[43m)\u001b[49m\n\u001b[32m      6\u001b[39m user = TwitterUsername(\n\u001b[32m      7\u001b[39m     username=\u001b[33m\"\u001b[39m\u001b[33mAdmin\u001b[39m\u001b[33m\"\u001b[39m,  \u001b[38;5;66;03m# Invalid due to restricted name\u001b[39;00m\n\u001b[32m      8\u001b[39m     free_account_post_length=\u001b[33m\"\u001b[39m\u001b[33mHi\u001b[39m\u001b[33m\"\u001b[39m,\n\u001b[32m      9\u001b[39m     premium_account_post_length=\u001b[33m\"\u001b[39m\u001b[33mPremium content\u001b[39m\u001b[33m\"\u001b[39m\n\u001b[32m     10\u001b[39m )\n",
      "\u001b[36mFile \u001b[39m\u001b[32mc:\\Users\\kuforiji oluwaseun\\Desktop\\Data\\data_and_data_analysis\\Lib\\site-packages\\pydantic\\main.py:250\u001b[39m, in \u001b[36mBaseModel.__init__\u001b[39m\u001b[34m(self, **data)\u001b[39m\n\u001b[32m    248\u001b[39m \u001b[38;5;66;03m# `__tracebackhide__` tells pytest and some other tools to omit this function from tracebacks\u001b[39;00m\n\u001b[32m    249\u001b[39m __tracebackhide__ = \u001b[38;5;28;01mTrue\u001b[39;00m\n\u001b[32m--> \u001b[39m\u001b[32m250\u001b[39m validated_self = \u001b[38;5;28;43mself\u001b[39;49m\u001b[43m.\u001b[49m\u001b[43m__pydantic_validator__\u001b[49m\u001b[43m.\u001b[49m\u001b[43mvalidate_python\u001b[49m\u001b[43m(\u001b[49m\u001b[43mdata\u001b[49m\u001b[43m,\u001b[49m\u001b[43m \u001b[49m\u001b[43mself_instance\u001b[49m\u001b[43m=\u001b[49m\u001b[38;5;28;43mself\u001b[39;49m\u001b[43m)\u001b[49m\n\u001b[32m    251\u001b[39m \u001b[38;5;28;01mif\u001b[39;00m \u001b[38;5;28mself\u001b[39m \u001b[38;5;129;01mis\u001b[39;00m \u001b[38;5;129;01mnot\u001b[39;00m validated_self:\n\u001b[32m    252\u001b[39m     warnings.warn(\n\u001b[32m    253\u001b[39m         \u001b[33m'\u001b[39m\u001b[33mA custom validator is returning a value other than `self`.\u001b[39m\u001b[38;5;130;01m\\n\u001b[39;00m\u001b[33m'\u001b[39m\n\u001b[32m    254\u001b[39m         \u001b[33m\"\u001b[39m\u001b[33mReturning anything other than `self` from a top level model validator isn\u001b[39m\u001b[33m'\u001b[39m\u001b[33mt supported when validating via `__init__`.\u001b[39m\u001b[38;5;130;01m\\n\u001b[39;00m\u001b[33m\"\u001b[39m\n\u001b[32m    255\u001b[39m         \u001b[33m'\u001b[39m\u001b[33mSee the `model_validator` docs (https://docs.pydantic.dev/latest/concepts/validators/#model-validators) for more details.\u001b[39m\u001b[33m'\u001b[39m,\n\u001b[32m    256\u001b[39m         stacklevel=\u001b[32m2\u001b[39m,\n\u001b[32m    257\u001b[39m     )\n",
      "\u001b[31mValidationError\u001b[39m: 1 validation error for TwitterUsername\nusername\n  Value error, Username cannot be 'admin' or 'twitter' [type=value_error, input_value='Admin', input_type=str]\n    For further information visit https://errors.pydantic.dev/2.12/v/value_error"
     ]
    }
   ],
   "source": [
    "user = TwitterUsername(\n",
    "    username=\"Admin\",  # Invalid due to restricted name\n",
    "    free_account_post_length=\"Hi\",\n",
    "    premium_account_post_length=\"Premium content\"\n",
    ")\n",
    "user = TwitterUsername(\n",
    "    username=\"Admin\",  # Invalid due to restricted name\n",
    "    free_account_post_length=\"Hi\",\n",
    "    premium_account_post_length=\"Premium content\"\n",
    ")\n"
   ]
  },
  {
   "cell_type": "code",
   "execution_count": null,
   "id": "6954fb1c",
   "metadata": {},
   "outputs": [
    {
     "name": "stdout",
     "output_type": "stream",
     "text": [
      "{'created_at': datetime.datetime(2025, 10, 16, 12, 56, 4, 934473),\n",
      " 'free_account_post_length': 'This is a short tweet.',\n",
      " 'is_active': True,\n",
      " 'premium_account_post_length': 'This is a much longer post intended for '\n",
      "                                'premium users. It can go up to 25,000 '\n",
      "                                'characters!',\n",
      " 'username': 'valid_user_01'}\n"
     ]
    }
   ],
   "source": [
    "from pprint import pprint\n",
    "\n",
    "user = TwitterUsername(\n",
    "    username=\"valid_user_01\",\n",
    "    free_account_post_length=\"This is a short tweet.\",\n",
    "    premium_account_post_length=\"This is a much longer post intended for premium users. It can go up to 25,000 characters!\",\n",
    ")\n",
    "\n",
    "pprint(user.model_dump())\n",
    "\n"
   ]
  },
  {
   "cell_type": "code",
   "execution_count": null,
   "id": "dd82012f",
   "metadata": {},
   "outputs": [
    {
     "name": "stdout",
     "output_type": "stream",
     "text": [
      "username='ola_bams20' free_account_post_length='Hello world!' premium_account_post_length='This is a long-form post for premium users.' is_active=True created_at=datetime.datetime(2025, 10, 16, 12, 57, 30, 214526)\n"
     ]
    }
   ],
   "source": [
    "# Display the existing TwitterUsername instance named `user`.\n",
    "# If you intended a variable named `valid_user_01`, assign it first:\n",
    "# valid_user_01 = user\n",
    "print(user)"
   ]
  },
  {
   "cell_type": "code",
   "execution_count": 31,
   "id": "340ee6e1",
   "metadata": {},
   "outputs": [
    {
     "name": "stdout",
     "output_type": "stream",
     "text": [
      "Validation Error:\n",
      "1 validation error for TwitterUsername\n",
      "free_account_post_length\n",
      "  String should have at most 280 characters [type=string_too_long, input_value='xxxxxxxxxxxxxxxxxxxxxxxx...xxxxxxxxxxxxxxxxxxxxxxx', input_type=str]\n",
      "    For further information visit https://errors.pydantic.dev/2.12/v/string_too_long\n"
     ]
    }
   ],
   "source": [
    "from pydantic import ValidationError\n",
    "\n",
    "def demo_post_length():\n",
    "    long_post = \"x\" * 300  # 300 characters, exceeds the 280 limit\n",
    "\n",
    "    try:\n",
    "        user = TwitterUsername(\n",
    "            username=\"standard_user\",\n",
    "            free_account_post_length=long_post,\n",
    "            premium_account_post_length=\"This is fine for premium.\"\n",
    "        )\n",
    "        print(\"User created successfully:\")\n",
    "        print(user.model_dump())\n",
    "    except ValidationError as e:\n",
    "        print(\"Validation Error:\")\n",
    "        print(e)\n",
    "\n",
    "# Run the demo\n",
    "demo_post_length()\n",
    "\n",
    "    "
   ]
  }
 ],
 "metadata": {
  "kernelspec": {
   "display_name": "data_and_data_analysis",
   "language": "python",
   "name": "python3"
  },
  "language_info": {
   "codemirror_mode": {
    "name": "ipython",
    "version": 3
   },
   "file_extension": ".py",
   "mimetype": "text/x-python",
   "name": "python",
   "nbconvert_exporter": "python",
   "pygments_lexer": "ipython3",
   "version": "3.13.7"
  }
 },
 "nbformat": 4,
 "nbformat_minor": 5
}
