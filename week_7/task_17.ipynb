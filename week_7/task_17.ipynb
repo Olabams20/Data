{
 "cells": [
  {
   "cell_type": "code",
   "execution_count": 101,
   "id": "09f3b188",
   "metadata": {},
   "outputs": [
    {
     "name": "stdout",
     "output_type": "stream",
     "text": [
      "Step 1: Scores Matrix (4 students x 3 subjects):\n",
      "[[80 70 90]\n",
      " [60 85 75]\n",
      " [95 88 92]\n",
      " [70 60 65]]\n",
      "\n"
     ]
    }
   ],
   "source": [
    "import numpy as np\n",
    "\n",
    "# Step 1: Define a new 4×3 matrix (4 students, 3 subjects: Math, English, Science, History)\n",
    "scores = np.array([\n",
    "    [80, 70, 90, ],  # Student 1\n",
    "    [60, 85, 75, ],  # Student 2\n",
    "    [95, 88, 92, ],  # Student 3\n",
    "    [70, 60, 65, ],  # Student 4\n",
    "])\n",
    "\n",
    "print(\"Step 1: Scores Matrix (4 students x 3 subjects):\")\n",
    "print(scores)\n",
    "print()\n"
   ]
  },
  {
   "cell_type": "code",
   "execution_count": 90,
   "id": "d74c6b3f",
   "metadata": {},
   "outputs": [
    {
     "name": "stdout",
     "output_type": "stream",
     "text": [
      "Step 2: Total Scores per Student:\n",
      "Student 1: 240\n",
      "Student 2: 220\n",
      "Student 3: 275\n",
      "Student 4: 195\n",
      "\n"
     ]
    }
   ],
   "source": [
    "# Step 2: Total score per student (row-wise sum)\n",
    "total_scores = np.sum(scores, axis=1)\n",
    "print(\"Step 2: Total Scores per Student:\")\n",
    "for i, total in enumerate(total_scores, start=1):\n",
    "    print(f\"Student {i}: {total}\")\n",
    "print()"
   ]
  },
  {
   "cell_type": "code",
   "execution_count": 91,
   "id": "7cc5561c",
   "metadata": {},
   "outputs": [
    {
     "name": "stdout",
     "output_type": "stream",
     "text": [
      "Step 3: Average Score per Subject:\n",
      "Math: 76.25\n",
      "English: 75.75\n",
      "Science: 80.50\n",
      "\n"
     ]
    }
   ],
   "source": [
    "# Step 3: Average score per subject (column-wise mean)\n",
    "average_per_subject = np.mean(scores, axis=0)\n",
    "print(\"Step 3: Average Score per Subject:\")\n",
    "subjects = [\"Math\", \"English\", \"Science\",]\n",
    "for subj, avg in zip(subjects, average_per_subject):\n",
    "    print(f\"{subj}: {avg:.2f}\")\n",
    "print()"
   ]
  },
  {
   "cell_type": "code",
   "execution_count": 92,
   "id": "37ec885a",
   "metadata": {},
   "outputs": [
    {
     "name": "stdout",
     "output_type": "stream",
     "text": [
      "Step 4: Weighted Totals (Science x3):\n",
      "Student 1: 420\n",
      "Student 2: 370\n",
      "Student 3: 459\n",
      "Student 4: 325\n"
     ]
    }
   ],
   "source": [
    "# Step 4: Apply scalar weights (Science is 3x more important)\n",
    "scalar_weights = np.array([1, 1, 3])  # Weights for 3 subjects\n",
    "weighted_totals = np.sum(scores * scalar_weights, axis=1)\n",
    "\n",
    "print(\"Step 4: Weighted Totals (Science x3):\")\n",
    "for i, wt in enumerate(weighted_totals, start=1):\n",
    "    print(f\"Student {i}: {wt}\")\n"
   ]
  },
  {
   "cell_type": "code",
   "execution_count": 93,
   "id": "f9b9ae60",
   "metadata": {},
   "outputs": [
    {
     "name": "stdout",
     "output_type": "stream",
     "text": [
      "Step 5: Final Grades (Weighted Average):\n",
      "Student 1: 79.00\n",
      "Student 2: 70.50\n",
      "Student 3: 92.30\n",
      "Student 4: 66.00\n",
      "\n"
     ]
    }
   ],
   "source": [
    "# Step 5: Final grades using matrix multiplication with new weights\n",
    "grade_weights = np.array([0.5, 0.3, 0.2,])\n",
    "final_grades = np.dot(scores, grade_weights)\n",
    "print(\"Step 5: Final Grades (Weighted Average):\")\n",
    "for i, grade in enumerate(final_grades, start=1):\n",
    "    print(f\"Student {i}: {grade:.2f}\")\n",
    "print()"
   ]
  },
  {
   "cell_type": "code",
   "execution_count": 94,
   "id": "8b413ef9",
   "metadata": {},
   "outputs": [
    {
     "name": "stdout",
     "output_type": "stream",
     "text": [
      "Step 6: Comparison Between Student 3 and Student 4:\n",
      "Math: Student 3 performed better by 25 points\n",
      "English: Student 3 performed better by 28 points\n",
      "Science: Student 3 performed better by 27 points\n"
     ]
    }
   ],
   "source": [
    "# Step 6: Compare Student 3 and Student 4\n",
    "comparison = scores[2] - scores[3]\n",
    "print(\"Step 6: Comparison Between Student 3 and Student 4:\")\n",
    "for subj, diff in zip(subjects, comparison):\n",
    "    result = \"Student 3\" if diff > 0 else \"Student 4\" if diff < 0 else \"Equal\"\n",
    "    print(f\"{subj}: {result} performed better by {abs(diff)} points\")\n"
   ]
  },
  {
   "cell_type": "code",
   "execution_count": 95,
   "id": "94b4c9e4",
   "metadata": {},
   "outputs": [
    {
     "name": "stdout",
     "output_type": "stream",
     "text": [
      "Step 1: Scores Matrix (5 students × 4 subjects):\n",
      "[[80 70 90 85]\n",
      " [60 85 75 80]\n",
      " [95 88 92 90]\n",
      " [70 60 65 70]\n",
      " [85 78 80 88]]\n",
      "\n"
     ]
    }
   ],
   "source": [
    "import numpy as np\n",
    "\n",
    "# Step 1: Define a new 5×4 matrix (5 students, 4 subjects: Math, English, Science, Computer)\n",
    "scores = np.array([\n",
    "    [80, 70, 90, 85],  # Student 1\n",
    "    [60, 85, 75, 80],  # Student 2\n",
    "    [95, 88, 92, 90],  # Student 3\n",
    "    [70, 60, 65, 70],  # Student 4\n",
    "    [85, 78, 80, 88]   # Student 5\n",
    "])\n",
    "\n",
    "print(\"Step 1: Scores Matrix (5 students × 4 subjects):\")\n",
    "print(scores)\n",
    "print()\n"
   ]
  },
  {
   "cell_type": "code",
   "execution_count": 96,
   "id": "67d22c5b",
   "metadata": {},
   "outputs": [
    {
     "name": "stdout",
     "output_type": "stream",
     "text": [
      "Step 2: Total Scores per Student:\n",
      "Student 1: 325\n",
      "Student 2: 300\n",
      "Student 3: 365\n",
      "Student 4: 265\n",
      "Student 5: 331\n",
      "\n"
     ]
    }
   ],
   "source": [
    "# Step 2: Total score per student (row-wise sum)\n",
    "total_scores = np.sum(scores, axis=1)\n",
    "print(\"Step 2: Total Scores per Student:\")\n",
    "for i, total in enumerate(total_scores, start=1):\n",
    "    print(f\"Student {i}: {total}\")\n",
    "print()\n"
   ]
  },
  {
   "cell_type": "code",
   "execution_count": 97,
   "id": "d6d991bc",
   "metadata": {},
   "outputs": [
    {
     "name": "stdout",
     "output_type": "stream",
     "text": [
      "Step 3: Average Score per Subject:\n",
      "Math: 78.00\n",
      "English: 76.20\n",
      "Science: 80.40\n",
      "Computer: 82.60\n",
      "\n"
     ]
    }
   ],
   "source": [
    "# Step 3: Average score per subject (column-wise mean)\n",
    "average_per_subject = np.mean(scores, axis=0)\n",
    "print(\"Step 3: Average Score per Subject:\")\n",
    "subjects = [\"Math\", \"English\", \"Science\", \"Computer\"]\n",
    "for subj, avg in zip(subjects, average_per_subject):\n",
    "    print(f\"{subj}: {avg:.2f}\")\n",
    "print()\n"
   ]
  },
  {
   "cell_type": "code",
   "execution_count": 98,
   "id": "7550632f",
   "metadata": {},
   "outputs": [
    {
     "name": "stdout",
     "output_type": "stream",
     "text": [
      "Step 4: Weighted Totals (Science ×3):\n",
      "Student 1: 505\n",
      "Student 2: 450\n",
      "Student 3: 549\n",
      "Student 4: 395\n",
      "Student 5: 491\n",
      "\n"
     ]
    }
   ],
   "source": [
    "# Step 4: Apply scalar weights (Science is 3× more important)\n",
    "scalar_weights = np.array([1, 1, 3, 1])\n",
    "weighted_totals = np.dot(scores, scalar_weights)\n",
    "print(\"Step 4: Weighted Totals (Science ×3):\")\n",
    "for i, wt in enumerate(weighted_totals, start=1):\n",
    "    print(f\"Student {i}: {wt}\")\n",
    "print()"
   ]
  },
  {
   "cell_type": "code",
   "execution_count": 99,
   "id": "9412f46f",
   "metadata": {},
   "outputs": [
    {
     "name": "stdout",
     "output_type": "stream",
     "text": [
      "Step 5: Final Grades (Weighted Average):\n",
      "Student 1: 81.50\n",
      "Student 2: 71.50\n",
      "Student 3: 92.20\n",
      "Student 4: 66.50\n",
      "Student 5: 82.40\n",
      "\n"
     ]
    }
   ],
   "source": [
    "# Step 5: Final grades using matrix multiplication with new weights\n",
    "grade_weights = np.array([0.4, 0.2, 0.3, 0.1])\n",
    "final_grades = np.dot(scores, grade_weights)\n",
    "print(\"Step 5: Final Grades (Weighted Average):\")\n",
    "for i, grade in enumerate(final_grades, start=1):\n",
    "    print(f\"Student {i}: {grade:.2f}\")\n",
    "print()\n"
   ]
  },
  {
   "cell_type": "code",
   "execution_count": 100,
   "id": "bd1e6c86",
   "metadata": {},
   "outputs": [
    {
     "name": "stdout",
     "output_type": "stream",
     "text": [
      "Step 6: Comparison Between Student 3 and Student 4:\n",
      "Math: Student 3 performed better by 25 points\n",
      "English: Student 3 performed better by 28 points\n",
      "Science: Student 3 performed better by 27 points\n",
      "Computer: Student 3 performed better by 20 points\n"
     ]
    }
   ],
   "source": [
    "# Step 6: Compare Student 3 and Student 4\n",
    "comparison = scores[2] - scores[3]\n",
    "print(\"Step 6: Comparison Between Student 3 and Student 4:\")\n",
    "for subj, diff in zip(subjects, comparison):\n",
    "    result = \"Student 3\" if diff > 0 else \"Student 4\" if diff < 0 else \"Equal\"\n",
    "    print(f\"{subj}: {result} performed better by {abs(diff)} points\")\n"
   ]
  }
 ],
 "metadata": {
  "kernelspec": {
   "display_name": "data_and_data_analysis",
   "language": "python",
   "name": "python3"
  },
  "language_info": {
   "codemirror_mode": {
    "name": "ipython",
    "version": 3
   },
   "file_extension": ".py",
   "mimetype": "text/x-python",
   "name": "python",
   "nbconvert_exporter": "python",
   "pygments_lexer": "ipython3",
   "version": "3.13.7"
  }
 },
 "nbformat": 4,
 "nbformat_minor": 5
}
