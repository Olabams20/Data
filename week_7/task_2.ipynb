{
 "cells": [
  {
   "cell_type": "code",
   "execution_count": 1,
   "id": "14c62d84",
   "metadata": {},
   "outputs": [],
   "source": [
    "import numpy as np"
   ]
  },
  {
   "cell_type": "code",
   "execution_count": 2,
   "id": "b7b01f20",
   "metadata": {},
   "outputs": [],
   "source": [
    "A = np.array([[2, -1, 3],\n",
    "              [0, 4, 1]])\n",
    "\n",
    "B = np.array([[1, 2],\n",
    "              [-2, 0],\n",
    "              [5, -3]])"
   ]
  },
  {
   "cell_type": "code",
   "execution_count": 3,
   "id": "e89f980c",
   "metadata": {},
   "outputs": [
    {
     "name": "stdout",
     "output_type": "stream",
     "text": [
      "Matrix A:\n",
      " [[ 2 -1  3]\n",
      " [ 0  4  1]] \n",
      "Matrix B:\n",
      " [[ 1  2]\n",
      " [-2  0]\n",
      " [ 5 -3]]\n",
      "\n",
      "Matrix '(AB)' is:\n",
      " [[19 -5]\n",
      " [-3 -3]]\n",
      "Matrix '(BA)' is:\n",
      " [[  2   7   5]\n",
      " [ -4   2  -6]\n",
      " [ 10 -17  12]]\n"
     ]
    }
   ],
   "source": [
    "matrix1 = np.dot(A, B)\n",
    "matrix2 = np.dot(B, A)\n",
    "print(\"Matrix A:\\n\", A, \"\\nMatrix B:\\n\", B)\n",
    "print(\"\\nMatrix '(AB)' is:\\n\", matrix1)\n",
    "print(\"Matrix '(BA)' is:\\n\", matrix2)\n"
   ]
  }
 ],
 "metadata": {
  "kernelspec": {
   "display_name": "data_and_data_analysis",
   "language": "python",
   "name": "python3"
  },
  "language_info": {
   "codemirror_mode": {
    "name": "ipython",
    "version": 3
   },
   "file_extension": ".py",
   "mimetype": "text/x-python",
   "name": "python",
   "nbconvert_exporter": "python",
   "pygments_lexer": "ipython3",
   "version": "3.13.7"
  }
 },
 "nbformat": 4,
 "nbformat_minor": 5
}
