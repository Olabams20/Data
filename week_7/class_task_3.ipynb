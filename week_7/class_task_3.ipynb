{
 "cells": [
  {
   "cell_type": "markdown",
   "id": "5227c4d8",
   "metadata": {},
   "source": [
    "A: compute (cA), (dB), and (c+d)A\n",
    "  (cA)=  2[2,  -1]    [4,  -2]\n",
    "            [0    3] =  [0,   6] \n",
    "\n",
    "    (dB)=  3[1,  4]   [3,   12]\n",
    "            [-2  5]=  [-6   15]\n",
    "\n",
    "    (c+d)A= (2+3)[2,  -1]    [[5(2),   5(-1)]     [[10  -5],\n",
    "                 [0    3]  =  [5(0),  5(3)]]   =    [0   15]]"
   ]
  },
  {
   "cell_type": "markdown",
   "id": "1b9f7eda",
   "metadata": {},
   "source": []
  },
  {
   "cell_type": "markdown",
   "id": "6997b0d5",
   "metadata": {},
   "source": [
    "B: Verify the Scalar Multiplication Properties\n",
    "1. (c+d)A =cA + dA\n",
    "2. c(dA) = (cd)A\n",
    "Let's verify (c+d)A =cA + dA:\n",
    "cA + dA = [4 -2]   [6 -3]   [10 -5]\n",
    "          [0  6] + [0  9] = [0  15]\n",
    "This matches (c+d)A.          "
   ]
  },
  {
   "cell_type": "markdown",
   "id": "129cd511",
   "metadata": {},
   "source": [
    "C: Find the transpose of both matrices\n",
    "\n",
    "Let:    A = 2  -1           B =  1   4  \n",
    "            0   3               -2   5\n",
    "\n",
    "\n",
    "    A^T =    [2  -1 ]       =>       [2      0]\n",
    "             [0   3 ]                [-1     3]\n",
    "\n",
    "    B^T =   [1      4]      =>       [1     -2]\n",
    "            [-2     5]               [4      5]\n"
   ]
  },
  {
   "cell_type": "markdown",
   "id": "27465438",
   "metadata": {},
   "source": [
    "D: Check if A and B are invertible\n",
    "determinate(A) = (2)(3)-(-1)(0) = 6, so A is invertible.\n",
    "\n",
    "determinate (B)=(1)(5)-(4)(-2)= 5+8 = 13, so B is invertible.\n",
    "\n"
   ]
  },
  {
   "cell_type": "markdown",
   "id": "186a963c",
   "metadata": {},
   "source": []
  },
  {
   "cell_type": "markdown",
   "id": "956f268b",
   "metadata": {},
   "source": []
  },
  {
   "cell_type": "markdown",
   "id": "0d864ffe",
   "metadata": {},
   "source": []
  },
  {
   "cell_type": "markdown",
   "id": "08724f72",
   "metadata": {},
   "source": []
  },
  {
   "cell_type": "markdown",
   "id": "9298b1fb",
   "metadata": {},
   "source": []
  }
 ],
 "metadata": {
  "kernelspec": {
   "display_name": "data_and_data_analysis",
   "language": "python",
   "name": "python3"
  },
  "language_info": {
   "codemirror_mode": {
    "name": "ipython",
    "version": 3
   },
   "file_extension": ".py",
   "mimetype": "text/x-python",
   "name": "python",
   "nbconvert_exporter": "python",
   "pygments_lexer": "ipython3",
   "version": "3.13.7"
  }
 },
 "nbformat": 4,
 "nbformat_minor": 5
}
